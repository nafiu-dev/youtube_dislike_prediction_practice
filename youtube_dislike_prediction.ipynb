{
 "cells": [
  {
   "cell_type": "markdown",
   "metadata": {
    "id": "y88ESXwzZdCe"
   },
   "source": [
    "# Youtube dislike prediction in real time - working with a combination of data; practical guide\n",
    "\n",
    "Dataset available at: https://www.kaggle.com/datasets/dmitrynikolaev/youtube-dislikes-dataset"
   ]
  },
  {
   "cell_type": "markdown",
   "metadata": {
    "id": "znUrvsQycbML"
   },
   "source": [
    "## Loading data"
   ]
  },
  {
   "cell_type": "code",
   "execution_count": 1,
   "metadata": {
    "id": "Py-_5VbXZW_6"
   },
   "outputs": [],
   "source": [
    "!unzip -q archive.zip"
   ]
  },
  {
   "cell_type": "code",
   "execution_count": 2,
   "metadata": {
    "id": "GYIaGYizaABf"
   },
   "outputs": [],
   "source": [
    "import numpy as np\n",
    "import pandas as pd\n",
    "import tensorflow as tf"
   ]
  },
  {
   "cell_type": "code",
   "execution_count": 3,
   "metadata": {
    "colab": {
     "base_uri": "https://localhost:8080/",
     "height": 652
    },
    "id": "YLC3Gn7mZ_-w",
    "outputId": "25413fef-d65c-40a5-a970-64b5b53675ba"
   },
   "outputs": [
    {
     "data": {
      "text/html": [
       "\n",
       "  <div id=\"df-582ba25e-88a4-4750-a48e-7a6dd515946c\">\n",
       "    <div class=\"colab-df-container\">\n",
       "      <div>\n",
       "<style scoped>\n",
       "    .dataframe tbody tr th:only-of-type {\n",
       "        vertical-align: middle;\n",
       "    }\n",
       "\n",
       "    .dataframe tbody tr th {\n",
       "        vertical-align: top;\n",
       "    }\n",
       "\n",
       "    .dataframe thead th {\n",
       "        text-align: right;\n",
       "    }\n",
       "</style>\n",
       "<table border=\"1\" class=\"dataframe\">\n",
       "  <thead>\n",
       "    <tr style=\"text-align: right;\">\n",
       "      <th></th>\n",
       "      <th>video_id</th>\n",
       "      <th>title</th>\n",
       "      <th>channel_id</th>\n",
       "      <th>channel_title</th>\n",
       "      <th>published_at</th>\n",
       "      <th>view_count</th>\n",
       "      <th>likes</th>\n",
       "      <th>dislikes</th>\n",
       "      <th>comment_count</th>\n",
       "      <th>tags</th>\n",
       "      <th>description</th>\n",
       "      <th>comments</th>\n",
       "    </tr>\n",
       "  </thead>\n",
       "  <tbody>\n",
       "    <tr>\n",
       "      <th>0</th>\n",
       "      <td>--0bCF-iK2E</td>\n",
       "      <td>Jadon Sancho  Magical Skills &amp; Goals</td>\n",
       "      <td>UC6UL29enLNe4mqwTfAyeNuw</td>\n",
       "      <td>Bundesliga</td>\n",
       "      <td>2021-07-01 10:00:00</td>\n",
       "      <td>1048888</td>\n",
       "      <td>19515</td>\n",
       "      <td>226</td>\n",
       "      <td>1319</td>\n",
       "      <td>football soccer ftbol alemn Bundesliga season ...</td>\n",
       "      <td>Enjoy the best skills and goals from Jadon San...</td>\n",
       "      <td>Respect to Dortmund fans,must be sad losing hi...</td>\n",
       "    </tr>\n",
       "    <tr>\n",
       "      <th>1</th>\n",
       "      <td>--14w5SOEUs</td>\n",
       "      <td>Migos - Avalanche (Official Video)</td>\n",
       "      <td>UCGIelM2Dj3zza3xyV3pL3WQ</td>\n",
       "      <td>MigosVEVO</td>\n",
       "      <td>2021-06-10 16:00:00</td>\n",
       "      <td>15352638</td>\n",
       "      <td>359277</td>\n",
       "      <td>7479</td>\n",
       "      <td>18729</td>\n",
       "      <td>Migos Avalanche Quality Control Music/Motown R...</td>\n",
       "      <td>Watch the the official video for Migos - \"Aval...</td>\n",
       "      <td>Migos just makes me want to live my live to th...</td>\n",
       "    </tr>\n",
       "    <tr>\n",
       "      <th>2</th>\n",
       "      <td>--40TEbZ9Is</td>\n",
       "      <td>Supporting Actress in a Comedy: 73rd Emmys</td>\n",
       "      <td>UClBKH8yZRcM4AsRjDVEdjMg</td>\n",
       "      <td>Television Academy</td>\n",
       "      <td>2021-09-20 01:03:32</td>\n",
       "      <td>925281</td>\n",
       "      <td>11212</td>\n",
       "      <td>401</td>\n",
       "      <td>831</td>\n",
       "      <td></td>\n",
       "      <td>Hannah Waddingham wins the Emmy for Supporting...</td>\n",
       "      <td>Hannah's energy bursts through any screen. Wel...</td>\n",
       "    </tr>\n",
       "    <tr>\n",
       "      <th>3</th>\n",
       "      <td>--4tfbSyYDE</td>\n",
       "      <td>JO1'YOUNG (JO1 ver.)' PERFORMANCE VIDEO</td>\n",
       "      <td>UCsmXiDP8S40uBeJYxvyulmA</td>\n",
       "      <td>JO1</td>\n",
       "      <td>2021-03-03 10:00:17</td>\n",
       "      <td>2641597</td>\n",
       "      <td>39131</td>\n",
       "      <td>441</td>\n",
       "      <td>3745</td>\n",
       "      <td>PRODUCE101JAPAN              JO1   TheSTAR STA...</td>\n",
       "      <td>JO1'YOUNG (JO1 ver.)' PERFORMANCE VIDEO\\n\\n---...</td>\n",
       "      <td>youngVer&gt;&lt;  REN is really PERFECT. It's not ju...</td>\n",
       "    </tr>\n",
       "    <tr>\n",
       "      <th>4</th>\n",
       "      <td>--DKkzWVh-E</td>\n",
       "      <td>Why Retaining Walls Collapse</td>\n",
       "      <td>UCMOqf8ab-42UUQIdVoKwjlQ</td>\n",
       "      <td>Practical Engineering</td>\n",
       "      <td>2021-12-07 13:00:00</td>\n",
       "      <td>715724</td>\n",
       "      <td>32887</td>\n",
       "      <td>367</td>\n",
       "      <td>1067</td>\n",
       "      <td>retaining wall New Jersey highway Direct Conne...</td>\n",
       "      <td>One of the most important (and innocuous) part...</td>\n",
       "      <td>Keep up with all my projects here: https://pr...</td>\n",
       "    </tr>\n",
       "  </tbody>\n",
       "</table>\n",
       "</div>\n",
       "      <button class=\"colab-df-convert\" onclick=\"convertToInteractive('df-582ba25e-88a4-4750-a48e-7a6dd515946c')\"\n",
       "              title=\"Convert this dataframe to an interactive table.\"\n",
       "              style=\"display:none;\">\n",
       "        \n",
       "  <svg xmlns=\"http://www.w3.org/2000/svg\" height=\"24px\"viewBox=\"0 0 24 24\"\n",
       "       width=\"24px\">\n",
       "    <path d=\"M0 0h24v24H0V0z\" fill=\"none\"/>\n",
       "    <path d=\"M18.56 5.44l.94 2.06.94-2.06 2.06-.94-2.06-.94-.94-2.06-.94 2.06-2.06.94zm-11 1L8.5 8.5l.94-2.06 2.06-.94-2.06-.94L8.5 2.5l-.94 2.06-2.06.94zm10 10l.94 2.06.94-2.06 2.06-.94-2.06-.94-.94-2.06-.94 2.06-2.06.94z\"/><path d=\"M17.41 7.96l-1.37-1.37c-.4-.4-.92-.59-1.43-.59-.52 0-1.04.2-1.43.59L10.3 9.45l-7.72 7.72c-.78.78-.78 2.05 0 2.83L4 21.41c.39.39.9.59 1.41.59.51 0 1.02-.2 1.41-.59l7.78-7.78 2.81-2.81c.8-.78.8-2.07 0-2.86zM5.41 20L4 18.59l7.72-7.72 1.47 1.35L5.41 20z\"/>\n",
       "  </svg>\n",
       "      </button>\n",
       "      \n",
       "  <style>\n",
       "    .colab-df-container {\n",
       "      display:flex;\n",
       "      flex-wrap:wrap;\n",
       "      gap: 12px;\n",
       "    }\n",
       "\n",
       "    .colab-df-convert {\n",
       "      background-color: #E8F0FE;\n",
       "      border: none;\n",
       "      border-radius: 50%;\n",
       "      cursor: pointer;\n",
       "      display: none;\n",
       "      fill: #1967D2;\n",
       "      height: 32px;\n",
       "      padding: 0 0 0 0;\n",
       "      width: 32px;\n",
       "    }\n",
       "\n",
       "    .colab-df-convert:hover {\n",
       "      background-color: #E2EBFA;\n",
       "      box-shadow: 0px 1px 2px rgba(60, 64, 67, 0.3), 0px 1px 3px 1px rgba(60, 64, 67, 0.15);\n",
       "      fill: #174EA6;\n",
       "    }\n",
       "\n",
       "    [theme=dark] .colab-df-convert {\n",
       "      background-color: #3B4455;\n",
       "      fill: #D2E3FC;\n",
       "    }\n",
       "\n",
       "    [theme=dark] .colab-df-convert:hover {\n",
       "      background-color: #434B5C;\n",
       "      box-shadow: 0px 1px 3px 1px rgba(0, 0, 0, 0.15);\n",
       "      filter: drop-shadow(0px 1px 2px rgba(0, 0, 0, 0.3));\n",
       "      fill: #FFFFFF;\n",
       "    }\n",
       "  </style>\n",
       "\n",
       "      <script>\n",
       "        const buttonEl =\n",
       "          document.querySelector('#df-582ba25e-88a4-4750-a48e-7a6dd515946c button.colab-df-convert');\n",
       "        buttonEl.style.display =\n",
       "          google.colab.kernel.accessAllowed ? 'block' : 'none';\n",
       "\n",
       "        async function convertToInteractive(key) {\n",
       "          const element = document.querySelector('#df-582ba25e-88a4-4750-a48e-7a6dd515946c');\n",
       "          const dataTable =\n",
       "            await google.colab.kernel.invokeFunction('convertToInteractive',\n",
       "                                                     [key], {});\n",
       "          if (!dataTable) return;\n",
       "\n",
       "          const docLinkHtml = 'Like what you see? Visit the ' +\n",
       "            '<a target=\"_blank\" href=https://colab.research.google.com/notebooks/data_table.ipynb>data table notebook</a>'\n",
       "            + ' to learn more about interactive tables.';\n",
       "          element.innerHTML = '';\n",
       "          dataTable['output_type'] = 'display_data';\n",
       "          await google.colab.output.renderOutput(dataTable, element);\n",
       "          const docLink = document.createElement('div');\n",
       "          docLink.innerHTML = docLinkHtml;\n",
       "          element.appendChild(docLink);\n",
       "        }\n",
       "      </script>\n",
       "    </div>\n",
       "  </div>\n",
       "  "
      ],
      "text/plain": [
       "      video_id                                       title  \\\n",
       "0  --0bCF-iK2E        Jadon Sancho  Magical Skills & Goals   \n",
       "1  --14w5SOEUs          Migos - Avalanche (Official Video)   \n",
       "2  --40TEbZ9Is  Supporting Actress in a Comedy: 73rd Emmys   \n",
       "3  --4tfbSyYDE     JO1'YOUNG (JO1 ver.)' PERFORMANCE VIDEO   \n",
       "4  --DKkzWVh-E                Why Retaining Walls Collapse   \n",
       "\n",
       "                 channel_id          channel_title         published_at  \\\n",
       "0  UC6UL29enLNe4mqwTfAyeNuw             Bundesliga  2021-07-01 10:00:00   \n",
       "1  UCGIelM2Dj3zza3xyV3pL3WQ              MigosVEVO  2021-06-10 16:00:00   \n",
       "2  UClBKH8yZRcM4AsRjDVEdjMg     Television Academy  2021-09-20 01:03:32   \n",
       "3  UCsmXiDP8S40uBeJYxvyulmA                    JO1  2021-03-03 10:00:17   \n",
       "4  UCMOqf8ab-42UUQIdVoKwjlQ  Practical Engineering  2021-12-07 13:00:00   \n",
       "\n",
       "   view_count   likes  dislikes  comment_count  \\\n",
       "0     1048888   19515       226           1319   \n",
       "1    15352638  359277      7479          18729   \n",
       "2      925281   11212       401            831   \n",
       "3     2641597   39131       441           3745   \n",
       "4      715724   32887       367           1067   \n",
       "\n",
       "                                                tags  \\\n",
       "0  football soccer ftbol alemn Bundesliga season ...   \n",
       "1  Migos Avalanche Quality Control Music/Motown R...   \n",
       "2                                                      \n",
       "3  PRODUCE101JAPAN              JO1   TheSTAR STA...   \n",
       "4  retaining wall New Jersey highway Direct Conne...   \n",
       "\n",
       "                                         description  \\\n",
       "0  Enjoy the best skills and goals from Jadon San...   \n",
       "1  Watch the the official video for Migos - \"Aval...   \n",
       "2  Hannah Waddingham wins the Emmy for Supporting...   \n",
       "3  JO1'YOUNG (JO1 ver.)' PERFORMANCE VIDEO\\n\\n---...   \n",
       "4  One of the most important (and innocuous) part...   \n",
       "\n",
       "                                            comments  \n",
       "0  Respect to Dortmund fans,must be sad losing hi...  \n",
       "1  Migos just makes me want to live my live to th...  \n",
       "2  Hannah's energy bursts through any screen. Wel...  \n",
       "3  youngVer><  REN is really PERFECT. It's not ju...  \n",
       "4   Keep up with all my projects here: https://pr...  "
      ]
     },
     "execution_count": 3,
     "metadata": {},
     "output_type": "execute_result"
    }
   ],
   "source": [
    "dataset = pd.read_csv('youtube_dislike_dataset.csv')\n",
    "dataset.head()"
   ]
  },
  {
   "cell_type": "code",
   "execution_count": 4,
   "metadata": {
    "id": "2ab_yrlbZ_7z"
   },
   "outputs": [],
   "source": [
    "file_US_ids = open(\"video_IDs/unique_ids_US.txt\", \"r\")\n",
    "US_ids = file_US_ids.read().splitlines()"
   ]
  },
  {
   "cell_type": "code",
   "execution_count": 5,
   "metadata": {
    "id": "rePXrd8jcha0"
   },
   "outputs": [],
   "source": [
    "dataset = dataset[dataset['video_id'].isin(US_ids)]"
   ]
  },
  {
   "cell_type": "code",
   "execution_count": 6,
   "metadata": {
    "colab": {
     "base_uri": "https://localhost:8080/"
    },
    "id": "h-2qpzyGchxW",
    "outputId": "5aeb38ea-cd07-4169-e28c-67eb6b5eb390"
   },
   "outputs": [
    {
     "data": {
      "text/plain": [
       "(15835, 12)"
      ]
     },
     "execution_count": 6,
     "metadata": {},
     "output_type": "execute_result"
    }
   ],
   "source": [
    "dataset.shape "
   ]
  },
  {
   "cell_type": "code",
   "execution_count": 7,
   "metadata": {
    "colab": {
     "base_uri": "https://localhost:8080/"
    },
    "id": "8tyK5eRYdsu6",
    "outputId": "e13e9329-0a09-4277-a064-60b814f95580"
   },
   "outputs": [
    {
     "name": "stdout",
     "output_type": "stream",
     "text": [
      "<class 'pandas.core.frame.DataFrame'>\n",
      "Int64Index: 15835 entries, 1 to 37419\n",
      "Data columns (total 12 columns):\n",
      " #   Column         Non-Null Count  Dtype \n",
      "---  ------         --------------  ----- \n",
      " 0   video_id       15835 non-null  object\n",
      " 1   title          15835 non-null  object\n",
      " 2   channel_id     15835 non-null  object\n",
      " 3   channel_title  15835 non-null  object\n",
      " 4   published_at   15835 non-null  object\n",
      " 5   view_count     15835 non-null  int64 \n",
      " 6   likes          15835 non-null  int64 \n",
      " 7   dislikes       15835 non-null  int64 \n",
      " 8   comment_count  15835 non-null  int64 \n",
      " 9   tags           15835 non-null  object\n",
      " 10  description    15835 non-null  object\n",
      " 11  comments       15818 non-null  object\n",
      "dtypes: int64(4), object(8)\n",
      "memory usage: 1.6+ MB\n"
     ]
    }
   ],
   "source": [
    "dataset.info()"
   ]
  },
  {
   "cell_type": "code",
   "execution_count": 8,
   "metadata": {
    "colab": {
     "base_uri": "https://localhost:8080/",
     "height": 337
    },
    "id": "hmJRufdjcktT",
    "outputId": "5ff77fed-e59c-47dc-f094-c686bbd0db14"
   },
   "outputs": [
    {
     "data": {
      "text/html": [
       "\n",
       "  <div id=\"df-eb40eb60-612e-4ba6-824a-60e7284b94b9\">\n",
       "    <div class=\"colab-df-container\">\n",
       "      <div>\n",
       "<style scoped>\n",
       "    .dataframe tbody tr th:only-of-type {\n",
       "        vertical-align: middle;\n",
       "    }\n",
       "\n",
       "    .dataframe tbody tr th {\n",
       "        vertical-align: top;\n",
       "    }\n",
       "\n",
       "    .dataframe thead th {\n",
       "        text-align: right;\n",
       "    }\n",
       "</style>\n",
       "<table border=\"1\" class=\"dataframe\">\n",
       "  <thead>\n",
       "    <tr style=\"text-align: right;\">\n",
       "      <th></th>\n",
       "      <th>view_count</th>\n",
       "      <th>published_at</th>\n",
       "      <th>likes</th>\n",
       "      <th>comment_count</th>\n",
       "      <th>tags</th>\n",
       "      <th>description</th>\n",
       "      <th>dislikes</th>\n",
       "    </tr>\n",
       "  </thead>\n",
       "  <tbody>\n",
       "    <tr>\n",
       "      <th>1</th>\n",
       "      <td>15352638</td>\n",
       "      <td>2021-06-10 16:00:00</td>\n",
       "      <td>359277</td>\n",
       "      <td>18729</td>\n",
       "      <td>Migos Avalanche Quality Control Music/Motown R...</td>\n",
       "      <td>Watch the the official video for Migos - \"Aval...</td>\n",
       "      <td>7479</td>\n",
       "    </tr>\n",
       "    <tr>\n",
       "      <th>2</th>\n",
       "      <td>925281</td>\n",
       "      <td>2021-09-20 01:03:32</td>\n",
       "      <td>11212</td>\n",
       "      <td>831</td>\n",
       "      <td></td>\n",
       "      <td>Hannah Waddingham wins the Emmy for Supporting...</td>\n",
       "      <td>401</td>\n",
       "    </tr>\n",
       "    <tr>\n",
       "      <th>4</th>\n",
       "      <td>715724</td>\n",
       "      <td>2021-12-07 13:00:00</td>\n",
       "      <td>32887</td>\n",
       "      <td>1067</td>\n",
       "      <td>retaining wall New Jersey highway Direct Conne...</td>\n",
       "      <td>One of the most important (and innocuous) part...</td>\n",
       "      <td>367</td>\n",
       "    </tr>\n",
       "    <tr>\n",
       "      <th>5</th>\n",
       "      <td>36124750</td>\n",
       "      <td>2021-12-01 09:00:03</td>\n",
       "      <td>965069</td>\n",
       "      <td>59657</td>\n",
       "      <td>Kpop girl group 1theK Starshiptv starship   MV...</td>\n",
       "      <td>IVE Twitter\\n: https://twitter.com/IVEstarship...</td>\n",
       "      <td>16618</td>\n",
       "    </tr>\n",
       "    <tr>\n",
       "      <th>8</th>\n",
       "      <td>535044</td>\n",
       "      <td>2021-08-06 12:10:25</td>\n",
       "      <td>9207</td>\n",
       "      <td>1900</td>\n",
       "      <td>the breakfast club breakfast club power1051 ce...</td>\n",
       "      <td>Subscribe NOW to The Breakfast Club: http://ih...</td>\n",
       "      <td>384</td>\n",
       "    </tr>\n",
       "  </tbody>\n",
       "</table>\n",
       "</div>\n",
       "      <button class=\"colab-df-convert\" onclick=\"convertToInteractive('df-eb40eb60-612e-4ba6-824a-60e7284b94b9')\"\n",
       "              title=\"Convert this dataframe to an interactive table.\"\n",
       "              style=\"display:none;\">\n",
       "        \n",
       "  <svg xmlns=\"http://www.w3.org/2000/svg\" height=\"24px\"viewBox=\"0 0 24 24\"\n",
       "       width=\"24px\">\n",
       "    <path d=\"M0 0h24v24H0V0z\" fill=\"none\"/>\n",
       "    <path d=\"M18.56 5.44l.94 2.06.94-2.06 2.06-.94-2.06-.94-.94-2.06-.94 2.06-2.06.94zm-11 1L8.5 8.5l.94-2.06 2.06-.94-2.06-.94L8.5 2.5l-.94 2.06-2.06.94zm10 10l.94 2.06.94-2.06 2.06-.94-2.06-.94-.94-2.06-.94 2.06-2.06.94z\"/><path d=\"M17.41 7.96l-1.37-1.37c-.4-.4-.92-.59-1.43-.59-.52 0-1.04.2-1.43.59L10.3 9.45l-7.72 7.72c-.78.78-.78 2.05 0 2.83L4 21.41c.39.39.9.59 1.41.59.51 0 1.02-.2 1.41-.59l7.78-7.78 2.81-2.81c.8-.78.8-2.07 0-2.86zM5.41 20L4 18.59l7.72-7.72 1.47 1.35L5.41 20z\"/>\n",
       "  </svg>\n",
       "      </button>\n",
       "      \n",
       "  <style>\n",
       "    .colab-df-container {\n",
       "      display:flex;\n",
       "      flex-wrap:wrap;\n",
       "      gap: 12px;\n",
       "    }\n",
       "\n",
       "    .colab-df-convert {\n",
       "      background-color: #E8F0FE;\n",
       "      border: none;\n",
       "      border-radius: 50%;\n",
       "      cursor: pointer;\n",
       "      display: none;\n",
       "      fill: #1967D2;\n",
       "      height: 32px;\n",
       "      padding: 0 0 0 0;\n",
       "      width: 32px;\n",
       "    }\n",
       "\n",
       "    .colab-df-convert:hover {\n",
       "      background-color: #E2EBFA;\n",
       "      box-shadow: 0px 1px 2px rgba(60, 64, 67, 0.3), 0px 1px 3px 1px rgba(60, 64, 67, 0.15);\n",
       "      fill: #174EA6;\n",
       "    }\n",
       "\n",
       "    [theme=dark] .colab-df-convert {\n",
       "      background-color: #3B4455;\n",
       "      fill: #D2E3FC;\n",
       "    }\n",
       "\n",
       "    [theme=dark] .colab-df-convert:hover {\n",
       "      background-color: #434B5C;\n",
       "      box-shadow: 0px 1px 3px 1px rgba(0, 0, 0, 0.15);\n",
       "      filter: drop-shadow(0px 1px 2px rgba(0, 0, 0, 0.3));\n",
       "      fill: #FFFFFF;\n",
       "    }\n",
       "  </style>\n",
       "\n",
       "      <script>\n",
       "        const buttonEl =\n",
       "          document.querySelector('#df-eb40eb60-612e-4ba6-824a-60e7284b94b9 button.colab-df-convert');\n",
       "        buttonEl.style.display =\n",
       "          google.colab.kernel.accessAllowed ? 'block' : 'none';\n",
       "\n",
       "        async function convertToInteractive(key) {\n",
       "          const element = document.querySelector('#df-eb40eb60-612e-4ba6-824a-60e7284b94b9');\n",
       "          const dataTable =\n",
       "            await google.colab.kernel.invokeFunction('convertToInteractive',\n",
       "                                                     [key], {});\n",
       "          if (!dataTable) return;\n",
       "\n",
       "          const docLinkHtml = 'Like what you see? Visit the ' +\n",
       "            '<a target=\"_blank\" href=https://colab.research.google.com/notebooks/data_table.ipynb>data table notebook</a>'\n",
       "            + ' to learn more about interactive tables.';\n",
       "          element.innerHTML = '';\n",
       "          dataTable['output_type'] = 'display_data';\n",
       "          await google.colab.output.renderOutput(dataTable, element);\n",
       "          const docLink = document.createElement('div');\n",
       "          docLink.innerHTML = docLinkHtml;\n",
       "          element.appendChild(docLink);\n",
       "        }\n",
       "      </script>\n",
       "    </div>\n",
       "  </div>\n",
       "  "
      ],
      "text/plain": [
       "   view_count         published_at   likes  comment_count  \\\n",
       "1    15352638  2021-06-10 16:00:00  359277          18729   \n",
       "2      925281  2021-09-20 01:03:32   11212            831   \n",
       "4      715724  2021-12-07 13:00:00   32887           1067   \n",
       "5    36124750  2021-12-01 09:00:03  965069          59657   \n",
       "8      535044  2021-08-06 12:10:25    9207           1900   \n",
       "\n",
       "                                                tags  \\\n",
       "1  Migos Avalanche Quality Control Music/Motown R...   \n",
       "2                                                      \n",
       "4  retaining wall New Jersey highway Direct Conne...   \n",
       "5  Kpop girl group 1theK Starshiptv starship   MV...   \n",
       "8  the breakfast club breakfast club power1051 ce...   \n",
       "\n",
       "                                         description  dislikes  \n",
       "1  Watch the the official video for Migos - \"Aval...      7479  \n",
       "2  Hannah Waddingham wins the Emmy for Supporting...       401  \n",
       "4  One of the most important (and innocuous) part...       367  \n",
       "5  IVE Twitter\\n: https://twitter.com/IVEstarship...     16618  \n",
       "8  Subscribe NOW to The Breakfast Club: http://ih...       384  "
      ]
     },
     "execution_count": 8,
     "metadata": {},
     "output_type": "execute_result"
    }
   ],
   "source": [
    "dataset = dataset[['view_count', 'published_at','likes', 'comment_count','tags','description','dislikes']]\n",
    "dataset.head()"
   ]
  },
  {
   "cell_type": "markdown",
   "metadata": {
    "id": "dbWzbeFPdSuA"
   },
   "source": [
    "## Checking and removing null values"
   ]
  },
  {
   "cell_type": "code",
   "execution_count": 9,
   "metadata": {
    "colab": {
     "base_uri": "https://localhost:8080/"
    },
    "id": "5HYXvFALdYcq",
    "outputId": "8bff887b-fa1b-4d4d-ed7b-c8a14f8de38b"
   },
   "outputs": [
    {
     "data": {
      "text/plain": [
       "0"
      ]
     },
     "execution_count": 9,
     "metadata": {},
     "output_type": "execute_result"
    }
   ],
   "source": [
    "dataset.isna().sum().sum()"
   ]
  },
  {
   "cell_type": "code",
   "execution_count": 10,
   "metadata": {
    "colab": {
     "base_uri": "https://localhost:8080/"
    },
    "id": "55izd3Z5daB4",
    "outputId": "4687c7d1-51cc-4e74-822c-96e5313ed2b6"
   },
   "outputs": [
    {
     "name": "stderr",
     "output_type": "stream",
     "text": [
      "/usr/local/lib/python3.8/dist-packages/pandas/core/frame.py:5238: SettingWithCopyWarning: \n",
      "A value is trying to be set on a copy of a slice from a DataFrame\n",
      "\n",
      "See the caveats in the documentation: https://pandas.pydata.org/pandas-docs/stable/user_guide/indexing.html#returning-a-view-versus-a-copy\n",
      "  return super().replace(\n"
     ]
    }
   ],
   "source": [
    "dataset.replace(\" \", np.nan, inplace=True)"
   ]
  },
  {
   "cell_type": "code",
   "execution_count": 11,
   "metadata": {
    "colab": {
     "base_uri": "https://localhost:8080/"
    },
    "id": "RhTUxKwLdfqa",
    "outputId": "5012ed44-1fc2-477b-e716-02171505b23f"
   },
   "outputs": [
    {
     "data": {
      "text/plain": [
       "view_count          0\n",
       "published_at        0\n",
       "likes               0\n",
       "comment_count       0\n",
       "tags             2265\n",
       "description       268\n",
       "dislikes            0\n",
       "dtype: int64"
      ]
     },
     "execution_count": 11,
     "metadata": {},
     "output_type": "execute_result"
    }
   ],
   "source": [
    "dataset.isna().sum()"
   ]
  },
  {
   "cell_type": "code",
   "execution_count": 12,
   "metadata": {
    "colab": {
     "base_uri": "https://localhost:8080/"
    },
    "id": "BxyU7YmmdhXA",
    "outputId": "a5d197fb-6778-47a9-d31c-257b3ab23a34"
   },
   "outputs": [
    {
     "data": {
      "text/plain": [
       "0"
      ]
     },
     "execution_count": 12,
     "metadata": {},
     "output_type": "execute_result"
    }
   ],
   "source": [
    "dataset = dataset.dropna()\n",
    "dataset.isna().sum().sum()"
   ]
  },
  {
   "cell_type": "code",
   "execution_count": 13,
   "metadata": {
    "colab": {
     "base_uri": "https://localhost:8080/"
    },
    "id": "H7djXel5djYP",
    "outputId": "2eabcc09-62e7-4423-8e81-93c885fcce3a"
   },
   "outputs": [
    {
     "data": {
      "text/plain": [
       "(13536, 7)"
      ]
     },
     "execution_count": 13,
     "metadata": {},
     "output_type": "execute_result"
    }
   ],
   "source": [
    "dataset.shape"
   ]
  },
  {
   "cell_type": "markdown",
   "metadata": {
    "id": "tY8to4wIcx4c"
   },
   "source": [
    "## Creating time Feature"
   ]
  },
  {
   "cell_type": "code",
   "execution_count": 14,
   "metadata": {
    "id": "XysYoBVmcpjE"
   },
   "outputs": [],
   "source": [
    "from datetime import datetime\n",
    "def calTime(time):\n",
    "  start = datetime.strptime(time, '%Y-%m-%d %H:%M:%S')\n",
    "  end =   datetime.strptime('13/12/2021 00:00:00', '%d/%m/%Y %H:%M:%S') # assuming this is the date that this dataset was extracted\n",
    "  return np.round((end - start).total_seconds() / 60, 2)"
   ]
  },
  {
   "cell_type": "code",
   "execution_count": 15,
   "metadata": {
    "id": "o6jzrn96dI0b"
   },
   "outputs": [],
   "source": [
    "dataset['timesec'] = dataset['published_at'].apply(calTime)"
   ]
  },
  {
   "cell_type": "markdown",
   "metadata": {
    "id": "p_cgIKGSd4Nk"
   },
   "source": [
    "## Cleaning text"
   ]
  },
  {
   "cell_type": "code",
   "execution_count": 16,
   "metadata": {
    "colab": {
     "base_uri": "https://localhost:8080/"
    },
    "id": "aMTzWJ0AdIxk",
    "outputId": "7d5bf65a-c49f-44e7-c565-36314d4603df"
   },
   "outputs": [
    {
     "name": "stderr",
     "output_type": "stream",
     "text": [
      "[nltk_data] Downloading package stopwords to /root/nltk_data...\n",
      "[nltk_data]   Unzipping corpora/stopwords.zip.\n",
      "[nltk_data] Downloading package wordnet to /root/nltk_data...\n",
      "[nltk_data] Downloading package omw-1.4 to /root/nltk_data...\n",
      "[nltk_data] Downloading package words to /root/nltk_data...\n",
      "[nltk_data]   Unzipping corpora/words.zip.\n"
     ]
    }
   ],
   "source": [
    "import re\n",
    "from string import punctuation \n",
    "from bs4 import BeautifulSoup\n",
    "import nltk\n",
    "nltk.download('stopwords')\n",
    "nltk.download('wordnet')\n",
    "nltk.download('omw-1.4')\n",
    "nltk.download('words')\n",
    "\n",
    "from nltk.corpus import stopwords\n",
    "from nltk.stem import WordNetLemmatizer"
   ]
  },
  {
   "cell_type": "code",
   "execution_count": 17,
   "metadata": {
    "id": "nvUX57j2dIsI"
   },
   "outputs": [],
   "source": [
    "contraction_map={\n",
    "    \"ain't\": \"is not\",\n",
    "    \"aren't\": \"are not\",\n",
    "    \"can't\": \"cannot\",\n",
    "    \"cause\": \"because\",\n",
    "    \"could've\": \"could have\",\n",
    "    \"couldn't\": \"could not\",\n",
    "    \"couldn't've\": \"could not have\",\n",
    "    \"didn't\": \"did not\",\n",
    "    \"doesn't\": \"does not\",\n",
    "    \"don't\": \"do not\",\n",
    "    \"hadn't\": \"had not\",\n",
    "    \"hadn't've\": \"had not have\",\n",
    "    \"hasn't\": \"has not\",\n",
    "    \"haven't\": \"have not\",\n",
    "    \"he'd\": \"he would\",\n",
    "    \"he'd've\": \"he would have\",\n",
    "    \"he'll\": \"he will\",\n",
    "    \"he'll've\": \"he will have\",\n",
    "    \"he's\": \"he is\",\n",
    "    \"how'd\": \"how did\",\n",
    "    \"how'd've\": \"how did have\",\n",
    "    \"how'll\": \"how will\",\n",
    "    \"how's\": \"how is\",\n",
    "    \"I'd\": \"I would\",\n",
    "    \"I'd've\": \"I would have\",\n",
    "    \"I'll\": \"I will\",\n",
    "    \"I'll've\": \"I will have\",\n",
    "    \"I'm\": \"I am\",\n",
    "    \"I've\": \"I have\",\n",
    "    \"i'd\": \"i would\",\n",
    "    \"i'd've\": \"i would have\",\n",
    "    \"i'll\": \"i will\",\n",
    "    \"i'll've\": \"i will have\",\n",
    "    \"i'm\": \"i am\",\n",
    "    \"i've\": \"i have\",\n",
    "    \"isn't\": \"is not\",\n",
    "    \"it'd\": \"it would\",\n",
    "    \"it'd've\": \"it would have\",\n",
    "    \"it'll\": \"it will\",\n",
    "    \"it'll've\": \"it will have\",\n",
    "    \"it's\": \"it is\",\n",
    "    \"let's\": \"let us\",\n",
    "    \"ma'am\": \"madam\",\n",
    "    \"mayn't\": \"may not\",\n",
    "    \"might've\": \"might have\",\n",
    "    \"mightn't\": \"might not\",\n",
    "    \"mightn't've\": \"might not have\",\n",
    "    \"must've\": \"might have\",\n",
    "    \"mustn't\": \"must not\",\n",
    "    \"mustn't've\": \"must not have\",\n",
    "    \"needn't\": \"need not\",\n",
    "    \"needn't've\": \"need not have\",\n",
    "    \"o'clock\": \"of the clock\",\n",
    "    \"oughtn't\": \"ought not\",\n",
    "    \"oughtn't've\": \"ought not have\",\n",
    "    \"shan't\": \"shall not\",\n",
    "    \"shall'n't\": \"shall not\",\n",
    "    \"shan't've\": \"shall not have\",\n",
    "    \"she'd\": \"she would\",\n",
    "    \"she'd've\": \"she would have\",\n",
    "    \"she'll\": \"she will\",\n",
    "    \"she'll've\": \"she will have\",\n",
    "    \"she's\": \"she is\",\n",
    "    \"should've\": \"should have\",\n",
    "    \"shouldn't\": \"should not\",\n",
    "    \"shouldn't've\": \"should not have\",\n",
    "    \"so've\": \"so have\",\n",
    "    \"so's\": \"so as\",\n",
    "    \"that'd\": \"that would\",\n",
    "    \"that'd've\": \"that would have\",\n",
    "    \"that's\": \"that is\",\n",
    "    \"there'd\": \"there would\",\n",
    "    \"there'd've\": \"there would have\",\n",
    "    \"there's\": \"there is\",\n",
    "    \"they'd\": \"they would\",\n",
    "    \"they'd've\": \"they would have\",\n",
    "    \"they'll\": \"they will\",\n",
    "    \"they'll've\": \"they will have\",\n",
    "    \"they're\": \"they are\",\n",
    "    \"they've\": \"they have\",\n",
    "    \"to've\": \"to have\",\n",
    "    \"wasn't\": \"was not\",\n",
    "    \"we'd\": \"we would\",\n",
    "    \"we'd've\": \"we would have\",\n",
    "    \"we'll\": \"we will\",\n",
    "    \"we'll've\": \"we will have\",\n",
    "    \"we're\": \"we are\",\n",
    "    \"weren't\": \"were not\",\n",
    "    \"what'll\": \"what will\",\n",
    "    \"what'll've\": \"what will have\",\n",
    "    \"what're\": \"what are\",\n",
    "    \"what's\": \"what is\",\n",
    "    \"what've\": \"what have\",\n",
    "    \"when's\": \"when is\",\n",
    "    \"when've\": \"when have\",\n",
    "    \"where'd\": \"where did\",\n",
    "    \"where's\": \"where is\",\n",
    "    \"where've\": \"where have\",\n",
    "    \"who'll\": \"who will\",\n",
    "    \"who'll've\": \"who will have\",\n",
    "    \"who's\": \"who is\",\n",
    "    \"who've\": \"who have\",\n",
    "    \"why's\": \"why is\",\n",
    "    \"why've\": \"why have\",\n",
    "    \"will've\": \"will have\",\n",
    "    \"won't\": \"will not\",\n",
    "    \"will't've\": \"will not have\",\n",
    "    \"would've\": \"would have\",\n",
    "    \"would't\": \"would not\",\n",
    "    \"would't've\": \"would not have\",\n",
    "    \"y'all\": \"you all\",\n",
    "    \"y'all'd\": \"you all would\",\n",
    "    \"y'all'd've\": \"you all would have\",\n",
    "    \"y'all're\": \"you all are\",\n",
    "    \"y'all've\": \"you have all\",\n",
    "    \"you'd\": \"you would\",\n",
    "    \"you'd've\": \"you would have\",\n",
    "    \"you'll\": \"you will\",\n",
    "    \"you'll've\": \"you will have\",\n",
    "    \"you're\": \"you are\",\n",
    "    \"you've\": \"you have\",\n",
    "}"
   ]
  },
  {
   "cell_type": "code",
   "execution_count": 18,
   "metadata": {
    "id": "y2kJaZ_4dIpK"
   },
   "outputs": [],
   "source": [
    "\n",
    "lemmatizer = WordNetLemmatizer()\n",
    "in_words = set(nltk.corpus.words.words())\n",
    "def clean_text(text):\n",
    "    text = str(text)\n",
    "    text = BeautifulSoup(text, \"lxml\").text\n",
    "    text = re.sub(r'\\([^)]*\\)', '', text)\n",
    "    text = re.sub('\"','', text)\n",
    "    text = ' '.join([contraction_map[t] if t in contraction_map else t for t in text.split(\" \")])\n",
    "    text = re.sub(r\"'s\\b\",\"\",text)\n",
    "    text = re.sub(\"[^a-zA-Z]\", \" \", text)\n",
    "    text = \" \".join(w for w in nltk.wordpunct_tokenize(text) if w.lower() in in_words or not w.isalpha())\n",
    "\n",
    "    text = [word for word in text.split( ) if word not in stopwords.words('english')]\n",
    "    text = [lemmatizer.lemmatize(word) for word in text]\n",
    "    text = \" \".join(text)\n",
    "    text = text.lower()\n",
    "    return text"
   ]
  },
  {
   "cell_type": "code",
   "execution_count": 19,
   "metadata": {
    "colab": {
     "base_uri": "https://localhost:8080/"
    },
    "id": "UokgTtK5dIm0",
    "outputId": "00d68248-eb46-4622-94ed-4488965a50f2"
   },
   "outputs": [
    {
     "name": "stderr",
     "output_type": "stream",
     "text": [
      "/usr/local/lib/python3.8/dist-packages/bs4/__init__.py:332: UserWarning: \"https://www.scribbleshowdown.com/\n",
      "https://www.scribbleshowdown.com/\n",
      "https://www.scribbleshowdown.com/\" looks like a URL. Beautiful Soup is not an HTTP client. You should probably use an HTTP client like requests to get the document behind the URL, and feed that document to Beautiful Soup.\n",
      "  warnings.warn(\n",
      "/usr/local/lib/python3.8/dist-packages/bs4/__init__.py:332: UserWarning: \"https://www.covertinstruments.com\" looks like a URL. Beautiful Soup is not an HTTP client. You should probably use an HTTP client like requests to get the document behind the URL, and feed that document to Beautiful Soup.\n",
      "  warnings.warn(\n",
      "/usr/local/lib/python3.8/dist-packages/bs4/__init__.py:332: UserWarning: \"https://jaidenanimations.com\" looks like a URL. Beautiful Soup is not an HTTP client. You should probably use an HTTP client like requests to get the document behind the URL, and feed that document to Beautiful Soup.\n",
      "  warnings.warn(\n"
     ]
    },
    {
     "name": "stdout",
     "output_type": "stream",
     "text": [
      "CPU times: user 1min 59s, sys: 14.4 s, total: 2min 13s\n",
      "Wall time: 2min 16s\n",
      "CPU times: user 28.5 s, sys: 3.16 s, total: 31.6 s\n",
      "Wall time: 31.6 s\n"
     ]
    }
   ],
   "source": [
    "%time dataset['clean_description'] = dataset['description'].apply(clean_text)\n",
    "%time dataset['clean_tags'] = dataset['tags'].apply(clean_text)"
   ]
  },
  {
   "cell_type": "markdown",
   "metadata": {
    "id": "w0glPdiGemWo"
   },
   "source": [
    "## Splitting data"
   ]
  },
  {
   "cell_type": "code",
   "execution_count": 20,
   "metadata": {
    "id": "BhBFEbjZdIkV"
   },
   "outputs": [],
   "source": [
    "dataset_train = dataset.iloc[:12500,:]\n",
    "dataset_test = dataset.iloc[12501:,:]"
   ]
  },
  {
   "cell_type": "code",
   "execution_count": 21,
   "metadata": {
    "id": "1kfg8mHGdIh3"
   },
   "outputs": [],
   "source": [
    "X_train = dataset_train.loc[:, dataset.columns != 'dislikes']\n",
    "Y_train = dataset_train['dislikes'].values"
   ]
  },
  {
   "cell_type": "code",
   "execution_count": 22,
   "metadata": {
    "id": "dMUTgGL3esOM"
   },
   "outputs": [],
   "source": [
    "X_test = dataset_test.loc[:, dataset.columns != 'dislikes']\n",
    "Y_test = dataset_test['dislikes'].values"
   ]
  },
  {
   "cell_type": "code",
   "execution_count": 23,
   "metadata": {
    "id": "Z2AoOIpwetOf"
   },
   "outputs": [],
   "source": [
    "X_train_numaric = X_train[['view_count', 'likes', 'comment_count', 'timesec']].values\n",
    "X_train_tags = X_train['clean_tags'].values\n",
    "X_train_desc = X_train['clean_description'].values"
   ]
  },
  {
   "cell_type": "code",
   "execution_count": 24,
   "metadata": {
    "id": "8wbBiOQOeuYs"
   },
   "outputs": [],
   "source": [
    "X_test_numaric = X_test[['view_count', 'likes', 'comment_count', 'timesec']].values\n",
    "X_test_tags = X_test['clean_tags'].values\n",
    "X_test_desc = X_test['clean_description'].values"
   ]
  },
  {
   "cell_type": "markdown",
   "metadata": {
    "id": "yzODgtmJe67k"
   },
   "source": [
    "## Text tokenization"
   ]
  },
  {
   "cell_type": "code",
   "execution_count": 25,
   "metadata": {
    "id": "c3w4XrjAe1zy"
   },
   "outputs": [],
   "source": [
    "from tensorflow.keras.preprocessing.text import Tokenizer \n",
    "from tensorflow.keras.preprocessing.sequence import pad_sequences"
   ]
  },
  {
   "cell_type": "code",
   "execution_count": 26,
   "metadata": {
    "id": "SlB1TJFKe-o6"
   },
   "outputs": [],
   "source": [
    "def Tokenizer_func(train,test, max_words_length=0, max_seq_len=100):\n",
    "    tokenizer = Tokenizer()\n",
    "    tokenizer.fit_on_texts(train)\n",
    "    \n",
    "    max_words = 0\n",
    "    if max_words_length > 0:\n",
    "        max_words = max_words_length\n",
    "    else:\n",
    "        max_words = len(tokenizer.word_counts.items())\n",
    "\n",
    "    tokenizer = Tokenizer(num_words=max_words)\n",
    "    tokenizer.fit_on_texts(train)\n",
    "\n",
    "    train_sequences = tokenizer.texts_to_sequences(train)\n",
    "    test_sequences = tokenizer.texts_to_sequences(test)\n",
    "    \n",
    "    train = pad_sequences(train_sequences,maxlen=max_seq_len, padding='post')\n",
    "    test = pad_sequences(test_sequences,maxlen=max_seq_len, padding='post')\n",
    "    \n",
    "    voc = tokenizer.num_words +1\n",
    "    return {'train': train, 'test': test, 'voc': voc, 'max_words':max_words, 'tokenizer': tokenizer}"
   ]
  },
  {
   "cell_type": "markdown",
   "metadata": {
    "id": "rcdazJ5-fKZ_"
   },
   "source": [
    "For tags (text)"
   ]
  },
  {
   "cell_type": "code",
   "execution_count": 27,
   "metadata": {
    "id": "vAXe8T0Be_QB"
   },
   "outputs": [],
   "source": [
    "X_tags_processed = Tokenizer_func(X_train_tags,X_test_tags)"
   ]
  },
  {
   "cell_type": "code",
   "execution_count": 28,
   "metadata": {
    "id": "xstOcrLwfDiD"
   },
   "outputs": [],
   "source": [
    "X_train_tags,X_test_tags,x_tags_voc,x_tags_max_words,x_tag_tok = X_tags_processed['train'], X_tags_processed['test'],X_tags_processed['voc'],X_tags_processed['max_words'],X_tags_processed['tokenizer']"
   ]
  },
  {
   "cell_type": "markdown",
   "metadata": {
    "id": "UQnyOn8lfTrJ"
   },
   "source": [
    "For description (text)"
   ]
  },
  {
   "cell_type": "code",
   "execution_count": 29,
   "metadata": {
    "id": "cujbvfv5fVQF"
   },
   "outputs": [],
   "source": [
    "X_desc_processed = Tokenizer_func(X_train_desc,X_test_desc)"
   ]
  },
  {
   "cell_type": "code",
   "execution_count": 30,
   "metadata": {
    "id": "Z0PQ9ifkfa6p"
   },
   "outputs": [],
   "source": [
    "X_train_desc, X_test_desc,x_desc_voc,x_desc_max_words,x_desc_tok = X_desc_processed['train'], X_desc_processed['test'],X_desc_processed['voc'],X_desc_processed['max_words'],X_desc_processed['tokenizer']"
   ]
  },
  {
   "cell_type": "markdown",
   "metadata": {
    "id": "-wKC49OPfe12"
   },
   "source": [
    "## Numeric data normalization"
   ]
  },
  {
   "cell_type": "code",
   "execution_count": 31,
   "metadata": {
    "id": "jr5rub06fiIF"
   },
   "outputs": [],
   "source": [
    "from sklearn.preprocessing import StandardScaler"
   ]
  },
  {
   "cell_type": "code",
   "execution_count": 32,
   "metadata": {
    "id": "n34oT3W8fcZC"
   },
   "outputs": [],
   "source": [
    "Sc = StandardScaler()\n",
    "X_train_numaric = Sc.fit_transform(X_train_numaric)\n",
    "X_test_numaric = Sc.transform(X_test_numaric)"
   ]
  },
  {
   "cell_type": "markdown",
   "metadata": {
    "id": "c1Tv8HgjfroT"
   },
   "source": [
    "## Creating the Model and Training"
   ]
  },
  {
   "cell_type": "code",
   "execution_count": 33,
   "metadata": {
    "id": "J1l8Sz5BfjFG"
   },
   "outputs": [],
   "source": [
    "from keras.models import Model\n",
    "from tensorflow.keras.layers import Input, LSTM, Embedding, Dense, concatenate,LayerNormalization\n",
    "from keras.optimizers import Adam\n",
    "from keras.callbacks import EarlyStopping"
   ]
  },
  {
   "cell_type": "code",
   "execution_count": 34,
   "metadata": {
    "id": "Bx-rfNa5f0_4"
   },
   "outputs": [],
   "source": [
    "tagsInput = Input(shape=(None,), name='tags')\n",
    "descInput = Input(shape=(None,), name='desc')\n",
    "numaricInput = Input(shape=(4,), name='numaric')\n",
    "\n",
    "tags = Embedding(input_dim=x_tags_voc,output_dim=8,input_length=x_tags_max_words)(tagsInput)\n",
    "tags = LSTM(100,dropout=0.2, return_sequences=True)(tags)\n",
    "tags = LayerNormalization()(tags)\n",
    "tags = LSTM(100,dropout=0.4, return_sequences=False)(tags)\n",
    "tags = LayerNormalization()(tags)\n",
    "\n",
    "desc = Embedding(input_dim=x_desc_voc,output_dim=8,input_length=x_desc_max_words)(descInput)\n",
    "desc = LSTM(100,dropout=0.2, return_sequences=True)(desc)\n",
    "desc = LayerNormalization()(desc)\n",
    "desc = LSTM(100,dropout=0.4, return_sequences=False)(desc)\n",
    "desc = LayerNormalization()(desc)\n",
    "\n",
    "combined = concatenate([tags, desc,numaricInput])\n",
    "x = Dense(256,activation='relu')(combined)\n",
    "x = Dense(128,activation='relu')(x)\n",
    "x = Dense(32,activation='relu')(x)\n",
    "x = Dense(1,use_bias=True,activation='linear')(x)\n",
    "model = Model([tagsInput, descInput,numaricInput], x)"
   ]
  },
  {
   "cell_type": "code",
   "execution_count": 35,
   "metadata": {
    "id": "ZxpyDwGdgUSP"
   },
   "outputs": [],
   "source": [
    "model.compile(loss='mean_squared_error', optimizer=Adam(learning_rate=0.001, decay=0.001 / 20), metrics=['mae'])"
   ]
  },
  {
   "cell_type": "code",
   "execution_count": 36,
   "metadata": {
    "colab": {
     "base_uri": "https://localhost:8080/"
    },
    "id": "MBkg_eVagYEX",
    "outputId": "181dcb98-9244-4254-8318-0c7c1e402922"
   },
   "outputs": [
    {
     "name": "stdout",
     "output_type": "stream",
     "text": [
      "Model: \"model\"\n",
      "__________________________________________________________________________________________________\n",
      " Layer (type)                   Output Shape         Param #     Connected to                     \n",
      "==================================================================================================\n",
      " tags (InputLayer)              [(None, None)]       0           []                               \n",
      "                                                                                                  \n",
      " desc (InputLayer)              [(None, None)]       0           []                               \n",
      "                                                                                                  \n",
      " embedding (Embedding)          (None, None, 8)      71368       ['tags[0][0]']                   \n",
      "                                                                                                  \n",
      " embedding_1 (Embedding)        (None, None, 8)      129976      ['desc[0][0]']                   \n",
      "                                                                                                  \n",
      " lstm (LSTM)                    (None, None, 100)    43600       ['embedding[0][0]']              \n",
      "                                                                                                  \n",
      " lstm_2 (LSTM)                  (None, None, 100)    43600       ['embedding_1[0][0]']            \n",
      "                                                                                                  \n",
      " layer_normalization (LayerNorm  (None, None, 100)   200         ['lstm[0][0]']                   \n",
      " alization)                                                                                       \n",
      "                                                                                                  \n",
      " layer_normalization_2 (LayerNo  (None, None, 100)   200         ['lstm_2[0][0]']                 \n",
      " rmalization)                                                                                     \n",
      "                                                                                                  \n",
      " lstm_1 (LSTM)                  (None, 100)          80400       ['layer_normalization[0][0]']    \n",
      "                                                                                                  \n",
      " lstm_3 (LSTM)                  (None, 100)          80400       ['layer_normalization_2[0][0]']  \n",
      "                                                                                                  \n",
      " layer_normalization_1 (LayerNo  (None, 100)         200         ['lstm_1[0][0]']                 \n",
      " rmalization)                                                                                     \n",
      "                                                                                                  \n",
      " layer_normalization_3 (LayerNo  (None, 100)         200         ['lstm_3[0][0]']                 \n",
      " rmalization)                                                                                     \n",
      "                                                                                                  \n",
      " numaric (InputLayer)           [(None, 4)]          0           []                               \n",
      "                                                                                                  \n",
      " concatenate (Concatenate)      (None, 204)          0           ['layer_normalization_1[0][0]',  \n",
      "                                                                  'layer_normalization_3[0][0]',  \n",
      "                                                                  'numaric[0][0]']                \n",
      "                                                                                                  \n",
      " dense (Dense)                  (None, 256)          52480       ['concatenate[0][0]']            \n",
      "                                                                                                  \n",
      " dense_1 (Dense)                (None, 128)          32896       ['dense[0][0]']                  \n",
      "                                                                                                  \n",
      " dense_2 (Dense)                (None, 32)           4128        ['dense_1[0][0]']                \n",
      "                                                                                                  \n",
      " dense_3 (Dense)                (None, 1)            33          ['dense_2[0][0]']                \n",
      "                                                                                                  \n",
      "==================================================================================================\n",
      "Total params: 539,681\n",
      "Trainable params: 539,681\n",
      "Non-trainable params: 0\n",
      "__________________________________________________________________________________________________\n"
     ]
    }
   ],
   "source": [
    "model.summary()"
   ]
  },
  {
   "cell_type": "code",
   "execution_count": 37,
   "metadata": {
    "id": "oH79-qXxgZvF"
   },
   "outputs": [],
   "source": [
    "es = EarlyStopping(monitor='val_loss', mode='min', verbose=1, patience=20)"
   ]
  },
  {
   "cell_type": "markdown",
   "metadata": {
    "id": "JnaPdZXMgkkJ"
   },
   "source": [
    "Reshaping the text data since LSTM requires 3 dimensional data"
   ]
  },
  {
   "cell_type": "code",
   "execution_count": 38,
   "metadata": {
    "colab": {
     "base_uri": "https://localhost:8080/"
    },
    "id": "KoTlPbyKgiGV",
    "outputId": "ff78dfc6-96d1-49f2-fc7f-54abb4433cff"
   },
   "outputs": [
    {
     "data": {
      "text/plain": [
       "((12500, 100, 1), (12500, 100, 1), (12500, 4))"
      ]
     },
     "execution_count": 38,
     "metadata": {},
     "output_type": "execute_result"
    }
   ],
   "source": [
    "X_train_tags = np.reshape(X_train_tags,(X_train_tags.shape[0],X_train_tags.shape[1],1))\n",
    "X_train_desc = np.reshape(X_train_desc,(X_train_desc.shape[0],X_train_desc.shape[1],1))\n",
    "X_train_tags.shape, X_train_desc.shape, X_train_numaric.shape"
   ]
  },
  {
   "cell_type": "code",
   "execution_count": 49,
   "metadata": {
    "colab": {
     "base_uri": "https://localhost:8080/"
    },
    "id": "GnnW8hF5gwB8",
    "outputId": "6594e85a-4b00-4d77-e6d2-505fc271706c"
   },
   "outputs": [
    {
     "name": "stdout",
     "output_type": "stream",
     "text": [
      "Epoch 1/500\n",
      "400/400 [==============================] - 10s 25ms/step - loss: 475278656.0000 - mae: 3901.4524 - val_loss: 178841344.0000 - val_mae: 3082.6692\n",
      "Epoch 2/500\n",
      "400/400 [==============================] - 10s 25ms/step - loss: 470609920.0000 - mae: 3855.2996 - val_loss: 171007616.0000 - val_mae: 3864.3201\n",
      "Epoch 3/500\n",
      "400/400 [==============================] - 10s 25ms/step - loss: 468682752.0000 - mae: 4088.0996 - val_loss: 168204048.0000 - val_mae: 3104.1196\n",
      "Epoch 4/500\n",
      "400/400 [==============================] - 10s 25ms/step - loss: 465912192.0000 - mae: 3930.2805 - val_loss: 167244384.0000 - val_mae: 3140.7183\n",
      "Epoch 5/500\n",
      "400/400 [==============================] - 10s 24ms/step - loss: 462462912.0000 - mae: 3973.4392 - val_loss: 175616720.0000 - val_mae: 3124.6697\n",
      "Epoch 6/500\n",
      "400/400 [==============================] - 10s 25ms/step - loss: 457852000.0000 - mae: 3918.4929 - val_loss: 162736800.0000 - val_mae: 3724.3665\n",
      "Epoch 7/500\n",
      "400/400 [==============================] - 10s 24ms/step - loss: 467800896.0000 - mae: 4070.7805 - val_loss: 174357584.0000 - val_mae: 3026.3765\n",
      "Epoch 8/500\n",
      "400/400 [==============================] - 10s 25ms/step - loss: 442419552.0000 - mae: 3924.2017 - val_loss: 189008112.0000 - val_mae: 3629.4563\n",
      "Epoch 9/500\n",
      "400/400 [==============================] - 10s 25ms/step - loss: 434833472.0000 - mae: 3867.7800 - val_loss: 203796848.0000 - val_mae: 3226.0979\n",
      "Epoch 10/500\n",
      "400/400 [==============================] - 10s 24ms/step - loss: 459238176.0000 - mae: 4019.0544 - val_loss: 187489984.0000 - val_mae: 3050.2725\n",
      "Epoch 11/500\n",
      "400/400 [==============================] - 10s 25ms/step - loss: 433729536.0000 - mae: 3826.6772 - val_loss: 196745424.0000 - val_mae: 3119.7432\n",
      "Epoch 12/500\n",
      "400/400 [==============================] - 10s 25ms/step - loss: 423281056.0000 - mae: 3787.0344 - val_loss: 198825616.0000 - val_mae: 3297.4824\n",
      "Epoch 13/500\n",
      "400/400 [==============================] - 10s 24ms/step - loss: 407778176.0000 - mae: 3837.6704 - val_loss: 255224736.0000 - val_mae: 5526.5747\n",
      "Epoch 14/500\n",
      "400/400 [==============================] - 10s 25ms/step - loss: 405542112.0000 - mae: 3694.0552 - val_loss: 245222080.0000 - val_mae: 6770.7646\n",
      "Epoch 15/500\n",
      "400/400 [==============================] - 10s 24ms/step - loss: 395093120.0000 - mae: 3661.3416 - val_loss: 216449104.0000 - val_mae: 3651.4373\n",
      "Epoch 16/500\n",
      "400/400 [==============================] - 10s 24ms/step - loss: 387663808.0000 - mae: 3650.8823 - val_loss: 210238864.0000 - val_mae: 3317.6631\n",
      "Epoch 17/500\n",
      "400/400 [==============================] - 10s 24ms/step - loss: 370165824.0000 - mae: 3614.5415 - val_loss: 254880720.0000 - val_mae: 3965.9324\n",
      "Epoch 18/500\n",
      "400/400 [==============================] - 11s 27ms/step - loss: 368101312.0000 - mae: 3659.6543 - val_loss: 236960112.0000 - val_mae: 3513.3811\n",
      "Epoch 19/500\n",
      "400/400 [==============================] - 10s 25ms/step - loss: 350478496.0000 - mae: 3580.6897 - val_loss: 265825728.0000 - val_mae: 4492.4390\n",
      "Epoch 20/500\n",
      "400/400 [==============================] - 10s 25ms/step - loss: 350189664.0000 - mae: 3723.3853 - val_loss: 235507968.0000 - val_mae: 3582.1992\n",
      "Epoch 21/500\n",
      "400/400 [==============================] - 10s 24ms/step - loss: 322881664.0000 - mae: 3441.2241 - val_loss: 211740704.0000 - val_mae: 3480.6736\n",
      "Epoch 22/500\n",
      "400/400 [==============================] - 10s 25ms/step - loss: 307149440.0000 - mae: 3478.3765 - val_loss: 265997104.0000 - val_mae: 4591.3799\n",
      "Epoch 23/500\n",
      "400/400 [==============================] - 10s 25ms/step - loss: 285479680.0000 - mae: 3401.7937 - val_loss: 234635584.0000 - val_mae: 3345.7366\n",
      "Epoch 24/500\n",
      "400/400 [==============================] - 10s 25ms/step - loss: 275596000.0000 - mae: 3350.7888 - val_loss: 246413584.0000 - val_mae: 3825.8020\n",
      "Epoch 25/500\n",
      "400/400 [==============================] - 10s 25ms/step - loss: 276935872.0000 - mae: 3493.5237 - val_loss: 201172896.0000 - val_mae: 3371.2148\n",
      "Epoch 26/500\n",
      "400/400 [==============================] - 10s 25ms/step - loss: 263647184.0000 - mae: 3338.2810 - val_loss: 210384592.0000 - val_mae: 3326.3494\n",
      "Epoch 26: early stopping\n"
     ]
    }
   ],
   "source": [
    "history = model.fit(\n",
    "                    x=[X_train_tags, X_train_desc,X_train_numaric],\n",
    "                    y=Y_train,\n",
    "                    epochs=500, \n",
    "                    batch_size=25,\n",
    "                    validation_split=0.2,\n",
    "                    verbose=1,\n",
    "                    callbacks=[es]\n",
    "                  )"
   ]
  },
  {
   "cell_type": "markdown",
   "metadata": {
    "id": "wOg0M8yRhO01"
   },
   "source": [
    "## Evaluation matrix"
   ]
  },
  {
   "cell_type": "code",
   "execution_count": 52,
   "metadata": {
    "colab": {
     "base_uri": "https://localhost:8080/"
    },
    "id": "Ewm_AAEshGOg",
    "outputId": "05b0bd45-1793-4ff9-d6b4-32d9d07bdd9d"
   },
   "outputs": [
    {
     "name": "stdout",
     "output_type": "stream",
     "text": [
      "33/33 [==============================] - 0s 10ms/step\n",
      "Mean Absolute Error (MAE) - Test data :  3305.416272267512\n",
      "Mean Squared Error (MSE) - Test data :  226826599.84264407\n",
      "Root Mean Squared Error (RMSE) - Test data :  15060.76358763539\n",
      "Co-efficient of determination (R2 Score):  0.8716876178939388\n"
     ]
    }
   ],
   "source": [
    "pprydd = model.predict([X_test_tags, X_test_desc, X_test_numaric])\n",
    "from sklearn import metrics\n",
    "print(\"Mean Absolute Error (MAE) - Test data : \", metrics.mean_absolute_error(Y_test, pprydd))\n",
    "print(\"Mean Squared Error (MSE) - Test data : \", metrics.mean_squared_error(Y_test, pprydd))\n",
    "print(\"Root Mean Squared Error (RMSE) - Test data : \", np.sqrt(metrics.mean_squared_error(Y_test, pprydd)))\n",
    "print(\"Co-efficient of determination (R2 Score): \", metrics.r2_score(Y_test, pprydd))"
   ]
  },
  {
   "cell_type": "markdown",
   "metadata": {
    "id": "oC_mK5fvwIlh"
   },
   "source": [
    "## Real-Time"
   ]
  },
  {
   "cell_type": "code",
   "execution_count": 53,
   "metadata": {
    "id": "EYSTtgZWhpCW"
   },
   "outputs": [],
   "source": [
    "import googleapiclient.discovery"
   ]
  },
  {
   "cell_type": "code",
   "execution_count": 54,
   "metadata": {
    "id": "b1qDJvGkkiyD"
   },
   "outputs": [],
   "source": [
    "DEVELOPER_KEY = 'YOUR_API_KEY' \n",
    "youtube_client = googleapiclient.discovery.build('youtube', 'v3', developerKey=DEVELOPER_KEY)"
   ]
  },
  {
   "cell_type": "code",
   "execution_count": 55,
   "metadata": {
    "id": "5d7HSeNH0jw_"
   },
   "outputs": [],
   "source": [
    "def realtime(youtube,video_id):\n",
    "  def calTimesss(time):\n",
    "    start = datetime.strptime(time, '%Y-%m-%dT%H:%M:%S%z')\n",
    "    end =   datetime.now()\n",
    "    return np.round((end - start.replace(tzinfo=end.tzinfo)).total_seconds() / 60, 2)\n",
    "  request = youtube.videos().list(part=\"snippet, statistics\",id=video_id)\n",
    "  response = request.execute()\n",
    "\n",
    "  desc = response['items'][0]['snippet']['description']\n",
    "  desc  =[clean_text(desc)]\n",
    "  desc = x_desc_tok.texts_to_sequences(desc)\n",
    "  desc = pad_sequences(desc,maxlen=100, padding='post')\n",
    "  \n",
    "  tags = response['items'][0]['snippet']['tags']\n",
    "  tags=(\" \".join(tags))\n",
    "  tags  =[clean_text(tags)]\n",
    "  tags = x_tag_tok.texts_to_sequences(tags)\n",
    "  tags = pad_sequences(tags,maxlen=100, padding='post')\n",
    "\n",
    "  publishedAt = response['items'][0]['snippet']['publishedAt']\n",
    "  timesec = calTimesss(publishedAt)\n",
    "  viewcount = response['items'][0]['statistics']['viewCount']\n",
    "  likeCount = response['items'][0]['statistics']['likeCount']\n",
    "  commentCount = response['items'][0]['statistics']['commentCount']\n",
    "  numaricdata = [[viewcount, likeCount,commentCount,timesec]]\n",
    "  numaricdata = Sc.transform(numaricdata)\n",
    "\n",
    "  pryd = model.predict([tags, desc, numaricdata])\n",
    "\n",
    "  return {\"predicted\": int(pryd[0][0]), \"info\": {\n",
    "      \"video_id\": video_id,\n",
    "      \"likes\": likeCount,\n",
    "      \"commentCount\": commentCount,\n",
    "      \"viewCount\": viewcount,\n",
    "      \"publishedAt\": publishedAt,\n",
    "      \"dislike\": int(pryd[0][0]),\n",
    "  }}"
   ]
  },
  {
   "cell_type": "code",
   "execution_count": 56,
   "metadata": {
    "id": "HTJvu2z0leE8"
   },
   "outputs": [],
   "source": [
    "video_id = \"videoid\""
   ]
  },
  {
   "cell_type": "code",
   "execution_count": 57,
   "metadata": {
    "colab": {
     "base_uri": "https://localhost:8080/"
    },
    "id": "_E-KXCJt1I3u",
    "outputId": "7b3443a3-b85e-44de-e77e-b392ae8afa1a"
   },
   "outputs": [
    {
     "name": "stdout",
     "output_type": "stream",
     "text": [
      "1/1 [==============================] - 0s 34ms/step\n"
     ]
    },
    {
     "data": {
      "text/plain": [
       "{'predicted': 1231,\n",
       " 'info': {'video_id': '8oENQDbSgQg',\n",
       "  'likes': '2136',\n",
       "  'commentCount': '54',\n",
       "  'viewCount': '82122',\n",
       "  'publishedAt': '2022-10-23T20:35:36Z',\n",
       "  'dislike': 1231}}"
      ]
     },
     "execution_count": 57,
     "metadata": {},
     "output_type": "execute_result"
    }
   ],
   "source": [
    "realtime(youtube_client, video_id)"
   ]
  },
  {
   "cell_type": "code",
   "execution_count": 57,
   "metadata": {
    "id": "pXlrRGuVE3tj"
   },
   "outputs": [],
   "source": []
  }
 ],
 "metadata": {
  "accelerator": "GPU",
  "colab": {
   "provenance": []
  },
  "gpuClass": "standard",
  "kernelspec": {
   "display_name": "Python 3 (ipykernel)",
   "language": "python",
   "name": "python3"
  },
  "language_info": {
   "codemirror_mode": {
    "name": "ipython",
    "version": 3
   },
   "file_extension": ".py",
   "mimetype": "text/x-python",
   "name": "python",
   "nbconvert_exporter": "python",
   "pygments_lexer": "ipython3",
   "version": "3.9.7"
  }
 },
 "nbformat": 4,
 "nbformat_minor": 1
}
